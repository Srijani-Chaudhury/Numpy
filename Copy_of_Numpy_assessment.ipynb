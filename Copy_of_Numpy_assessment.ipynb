{
  "nbformat": 4,
  "nbformat_minor": 0,
  "metadata": {
    "colab": {
      "name": "Copy of Numpy-assessment.ipynb",
      "provenance": []
    },
    "kernelspec": {
      "name": "python3",
      "display_name": "Python 3"
    }
  },
  "cells": [
    {
      "cell_type": "markdown",
      "metadata": {
        "id": "cCSwE1Usg72w",
        "colab_type": "text"
      },
      "source": [
        "Q1. **Get the positions where elements of a and b match**\n",
        "\n",
        "Input:\n",
        "\n",
        "a = np.array([1,2,3,2,3,4,3,4,5,6])\n",
        "b = np.array([7,2,10,2,7,4,9,4,9,8])\n",
        "\n",
        "Output:\n",
        "\n",
        "(array([1, 3, 5, 7]),)\n",
        "\n"
      ]
    },
    {
      "cell_type": "code",
      "metadata": {
        "id": "5B5wiT5hhfv7",
        "colab_type": "code",
        "outputId": "5510eff6-3ec5-4c54-ae09-f004cf9a1b7a",
        "colab": {
          "base_uri": "https://localhost:8080/",
          "height": 34
        }
      },
      "source": [
        "import numpy as np\n",
        "a=np.array([1,2,3,2,3,4,3,4,5,6])\n",
        "b = np.array([7,2,10,2,7,4,9,4,9,8]) \n",
        "k=[]\n",
        "\n",
        "for i in range(len(a)):\n",
        "\n",
        "  if a[i]==b[i]:\n",
        "   k.append(i)\n",
        "print(np.array(k))   "
      ],
      "execution_count": 0,
      "outputs": [
        {
          "output_type": "stream",
          "text": [
            "[1 3 5 7]\n"
          ],
          "name": "stdout"
        }
      ]
    },
    {
      "cell_type": "markdown",
      "metadata": {
        "id": "kKl5YKFqhNSM",
        "colab_type": "text"
      },
      "source": [
        "Q2. **Get all items between 5 and 10 from a.**\n",
        "\n",
        "a = np.array([2, 6, 1, 9, 10, 3, 27])"
      ]
    },
    {
      "cell_type": "code",
      "metadata": {
        "id": "qwC0XUjChK_T",
        "colab_type": "code",
        "outputId": "094de575-e408-4970-a2c0-a0a81b9f6aae",
        "colab": {
          "base_uri": "https://localhost:8080/",
          "height": 34
        }
      },
      "source": [
        "# Write code for Q2 here\n",
        "a = np.array([2, 6, 1, 9, 10, 3, 27])\n",
        "print(a[(a>5)&(a<10)])\n"
      ],
      "execution_count": 0,
      "outputs": [
        {
          "output_type": "stream",
          "text": [
            "[6 9]\n"
          ],
          "name": "stdout"
        }
      ]
    },
    {
      "cell_type": "markdown",
      "metadata": {
        "id": "Y9nOEHJJh29V",
        "colab_type": "text"
      },
      "source": [
        "Q3. **Swap columns 1 and 2 in the array arr.**\n",
        "\n",
        "arr = np.arange(9).reshape(3,3)"
      ]
    },
    {
      "cell_type": "code",
      "metadata": {
        "id": "k-3XCKJdh8Dr",
        "colab_type": "code",
        "outputId": "db19093f-5cdb-46f4-cb7e-f8d62c2d0b56",
        "colab": {
          "base_uri": "https://localhost:8080/",
          "height": 119
        }
      },
      "source": [
        "# Write code for Q3 here\n",
        "arr = np.arange(9).reshape(3,3)\n",
        "\n",
        "k=arr[:,[0]]\n",
        "arr[:,[0]]=arr[:,[1]]\n",
        "arr[:,[1]]=k\n",
        "print(arr)\n"
      ],
      "execution_count": 0,
      "outputs": [
        {
          "output_type": "stream",
          "text": [
            "[[0 1 2]\n",
            " [3 4 5]\n",
            " [6 7 8]]\n",
            "[[1 0 2]\n",
            " [4 3 5]\n",
            " [7 6 8]]\n"
          ],
          "name": "stdout"
        }
      ]
    },
    {
      "cell_type": "markdown",
      "metadata": {
        "id": "kWevzjqWiAgN",
        "colab_type": "text"
      },
      "source": [
        "Q4. Reverse the rows of a 2D array arr.\n",
        "\n",
        "arr = np.arange(9).reshape(3,3)"
      ]
    },
    {
      "cell_type": "code",
      "metadata": {
        "id": "4rYagU47h_RU",
        "colab_type": "code",
        "outputId": "876ad796-4af9-4e5d-81aa-c86fef481962",
        "colab": {
          "base_uri": "https://localhost:8080/",
          "height": 119
        }
      },
      "source": [
        "# Write code for Q4 here\n",
        "arr = np.arange(9).reshape(3,3)\n",
        "\n",
        "for i in range(2):\n",
        " m=arr[[i]]\n",
        " arr[[i]]=arr[[2-i]]\n",
        " arr[[2-i]]=m\n",
        "print(arr)"
      ],
      "execution_count": 0,
      "outputs": [
        {
          "output_type": "stream",
          "text": [
            "[[0 1 2]\n",
            " [3 4 5]\n",
            " [6 7 8]]\n",
            "[[6 7 8]\n",
            " [3 4 5]\n",
            " [0 1 2]]\n"
          ],
          "name": "stdout"
        }
      ]
    },
    {
      "cell_type": "markdown",
      "metadata": {
        "id": "BijNqssxiQpx",
        "colab_type": "text"
      },
      "source": [
        "Q5. Find the 5th and 95th percentile of iris's sepallength\n",
        "Note - Find input code in the next cell"
      ]
    },
    {
      "cell_type": "code",
      "metadata": {
        "id": "4kfYgwd5ioE0",
        "colab_type": "code",
        "outputId": "91230123-e170-4f3f-f5b0-c663d32dea05",
        "colab": {
          "base_uri": "https://localhost:8080/",
          "height": 51
        }
      },
      "source": [
        "import numpy as np\n",
        "url = 'https://archive.ics.uci.edu/ml/machine-learning-databases/iris/iris.data'\n",
        "sepallength = np.genfromtxt(url, delimiter=',', dtype='float', usecols=[0])\n",
        "\n",
        "print(np.percentile(sepallength,5))\n",
        "print(np.percentile(sepallength,95))\n",
        "\n",
        "# Write code for Q5 here"
      ],
      "execution_count": 0,
      "outputs": [
        {
          "output_type": "stream",
          "text": [
            "4.6\n",
            "7.254999999999998\n"
          ],
          "name": "stdout"
        }
      ]
    },
    {
      "cell_type": "markdown",
      "metadata": {
        "id": "6CYl26T1i-f4",
        "colab_type": "text"
      },
      "source": [
        "Q6. Find the positions of NaN in the sepalLength numpy array"
      ]
    },
    {
      "cell_type": "code",
      "metadata": {
        "id": "LUMeHhQCiqN5",
        "colab_type": "code",
        "outputId": "c44780f5-b685-4b0b-b222-69b4f1ab8f5b",
        "colab": {
          "base_uri": "https://localhost:8080/",
          "height": 340
        }
      },
      "source": [
        "# This is the input of your question\n",
        "url = 'https://archive.ics.uci.edu/ml/machine-learning-databases/iris/iris.data'\n",
        "iris_2d = np.genfromtxt(url, delimiter=',', dtype='float')\n",
        "iris_2d[np.random.randint(150, size=20), np.random.randint(4, size=20)] = np.nan\n",
        "\n",
        "sepalLength=iris_2d[:,0]\n",
        "k=np.argwhere(np.isnan(sepalLength))\n",
        "print(k)\n",
        "sepalLength\n",
        "\n",
        "# Write your code here\n",
        "# Hint - You can use the isNan() function."
      ],
      "execution_count": 0,
      "outputs": [
        {
          "output_type": "stream",
          "text": [
            "[[ 41]\n",
            " [ 48]\n",
            " [ 63]\n",
            " [ 96]\n",
            " [113]\n",
            " [119]\n",
            " [128]]\n"
          ],
          "name": "stdout"
        },
        {
          "output_type": "execute_result",
          "data": {
            "text/plain": [
              "array([5.1, 4.9, 4.7, 4.6, 5. , 5.4, 4.6, 5. , 4.4, 4.9, 5.4, 4.8, 4.8,\n",
              "       4.3, 5.8, 5.7, 5.4, 5.1, 5.7, 5.1, 5.4, 5.1, 4.6, 5.1, 4.8, 5. ,\n",
              "       5. , 5.2, 5.2, 4.7, 4.8, 5.4, 5.2, 5.5, 4.9, 5. , 5.5, 4.9, 4.4,\n",
              "       5.1, 5. , nan, 4.4, 5. , 5.1, 4.8, 5.1, 4.6, nan, 5. , 7. , 6.4,\n",
              "       6.9, 5.5, 6.5, 5.7, 6.3, 4.9, 6.6, 5.2, 5. , 5.9, 6. , nan, 5.6,\n",
              "       6.7, 5.6, 5.8, 6.2, 5.6, 5.9, 6.1, 6.3, 6.1, 6.4, 6.6, 6.8, 6.7,\n",
              "       6. , 5.7, 5.5, 5.5, 5.8, 6. , 5.4, 6. , 6.7, 6.3, 5.6, 5.5, 5.5,\n",
              "       6.1, 5.8, 5. , 5.6, 5.7, nan, 6.2, 5.1, 5.7, 6.3, 5.8, 7.1, 6.3,\n",
              "       6.5, 7.6, 4.9, 7.3, 6.7, 7.2, 6.5, 6.4, 6.8, nan, 5.8, 6.4, 6.5,\n",
              "       7.7, 7.7, nan, 6.9, 5.6, 7.7, 6.3, 6.7, 7.2, 6.2, 6.1, nan, 7.2,\n",
              "       7.4, 7.9, 6.4, 6.3, 6.1, 7.7, 6.3, 6.4, 6. , 6.9, 6.7, 6.9, 5.8,\n",
              "       6.8, 6.7, 6.7, 6.3, 6.5, 6.2, 5.9])"
            ]
          },
          "metadata": {
            "tags": []
          },
          "execution_count": 20
        }
      ]
    },
    {
      "cell_type": "markdown",
      "metadata": {
        "id": "jFhzriKekbBa",
        "colab_type": "text"
      },
      "source": [
        "Q7 .Replace all the null values with 0 in the above used sepalLength array"
      ]
    },
    {
      "cell_type": "code",
      "metadata": {
        "id": "PnUjIs63jefg",
        "colab_type": "code",
        "outputId": "34036883-e606-4a67-b9b3-8294d4fee193",
        "colab": {
          "base_uri": "https://localhost:8080/",
          "height": 221
        }
      },
      "source": [
        "url = 'https://archive.ics.uci.edu/ml/machine-learning-databases/iris/iris.data'\n",
        "iris_2d = np.genfromtxt(url, delimiter=',', dtype='float')\n",
        "iris_2d[np.random.randint(150, size=20), np.random.randint(4, size=20)] = np.nan\n",
        "\n",
        "sepalLength=iris_2d[:,0]\n",
        "\n",
        "sepalLength[np.isnan(sepalLength)]=0\n",
        "sepalLength"
      ],
      "execution_count": 0,
      "outputs": [
        {
          "output_type": "execute_result",
          "data": {
            "text/plain": [
              "array([5.1, 4.9, 4.7, 4.6, 5. , 5.4, 4.6, 5. , 4.4, 4.9, 5.4, 4.8, 4.8,\n",
              "       4.3, 5.8, 5.7, 5.4, 5.1, 5.7, 5.1, 5.4, 5.1, 4.6, 5.1, 4.8, 5. ,\n",
              "       5. , 5.2, 5.2, 4.7, 4.8, 5.4, 5.2, 5.5, 0. , 5. , 5.5, 4.9, 4.4,\n",
              "       5.1, 5. , 4.5, 4.4, 5. , 5.1, 4.8, 5.1, 4.6, 5.3, 5. , 7. , 6.4,\n",
              "       0. , 5.5, 6.5, 5.7, 6.3, 4.9, 6.6, 5.2, 5. , 0. , 6. , 6.1, 5.6,\n",
              "       6.7, 5.6, 5.8, 6.2, 5.6, 5.9, 6.1, 6.3, 6.1, 6.4, 6.6, 6.8, 0. ,\n",
              "       6. , 5.7, 5.5, 5.5, 5.8, 6. , 5.4, 6. , 6.7, 6.3, 5.6, 5.5, 5.5,\n",
              "       6.1, 5.8, 5. , 5.6, 5.7, 5.7, 6.2, 5.1, 5.7, 6.3, 5.8, 7.1, 6.3,\n",
              "       6.5, 7.6, 4.9, 7.3, 6.7, 7.2, 6.5, 6.4, 6.8, 5.7, 5.8, 6.4, 6.5,\n",
              "       7.7, 7.7, 6. , 6.9, 5.6, 7.7, 6.3, 6.7, 7.2, 6.2, 6.1, 6.4, 7.2,\n",
              "       7.4, 7.9, 6.4, 6.3, 6.1, 7.7, 6.3, 6.4, 6. , 6.9, 0. , 6.9, 5.8,\n",
              "       6.8, 6.7, 6.7, 6.3, 6.5, 0. , 5.9])"
            ]
          },
          "metadata": {
            "tags": []
          },
          "execution_count": 22
        }
      ]
    },
    {
      "cell_type": "markdown",
      "metadata": {
        "id": "wxTOw6hykmko",
        "colab_type": "text"
      },
      "source": [
        "Q8. Find the 2nd largest value for the given array."
      ]
    },
    {
      "cell_type": "code",
      "metadata": {
        "id": "4_HOzJJOk78a",
        "colab_type": "code",
        "colab": {}
      },
      "source": [
        "# Input\n",
        "arr=np.random.randint(23,78, size=9).reshape(3,3)\n",
        "l=arr.ravel()\n",
        "m=l.tolist()\n",
        "print(m)\n",
        "for i in range(2):\n",
        " k=max(m)\n",
        " \n",
        " m.remove(k)\n",
        "print(k) \n",
        "\n",
        "\n",
        "\n",
        "\n",
        "# Write your code here"
      ],
      "execution_count": 0,
      "outputs": []
    },
    {
      "cell_type": "markdown",
      "metadata": {
        "id": "qCccgKVnlKpZ",
        "colab_type": "text"
      },
      "source": [
        "Q9. From the array a, replace all values greater than 30 by 30 and less than 10 by 10."
      ]
    },
    {
      "cell_type": "code",
      "metadata": {
        "id": "r7ebd8SnlEn8",
        "colab_type": "code",
        "outputId": "a7bf53ea-1190-4b89-db96-8499ec46e159",
        "colab": {
          "base_uri": "https://localhost:8080/",
          "height": 68
        }
      },
      "source": [
        "# Input\n",
        "import numpy as np\n",
        "arr=np.random.randint(1,78, size=9).reshape(3,3)\n",
        "arr[arr>30]=30\n",
        "arr[arr<10]=10\n",
        "print(arr)\n",
        "# Write your code here"
      ],
      "execution_count": 0,
      "outputs": [
        {
          "output_type": "stream",
          "text": [
            "[[18 28 30]\n",
            " [30 30 30]\n",
            " [24 30 17]]\n"
          ],
          "name": "stdout"
        }
      ]
    },
    {
      "cell_type": "markdown",
      "metadata": {
        "id": "BtdfUWj0lyMf",
        "colab_type": "text"
      },
      "source": [
        "Q10. Drop all nan values from a 1D numpy array"
      ]
    },
    {
      "cell_type": "code",
      "metadata": {
        "id": "jd09glLJlsg4",
        "colab_type": "code",
        "outputId": "519318e0-f264-4187-c5af-bfc1d117e05e",
        "colab": {
          "base_uri": "https://localhost:8080/",
          "height": 34
        }
      },
      "source": [
        "arr=np.array([1,2,3,np.nan,5,6,7,np.nan])\n",
        "print(arr[np.isnan(arr)!=True])\n",
        "\n",
        "# Write code here"
      ],
      "execution_count": 0,
      "outputs": [
        {
          "output_type": "stream",
          "text": [
            "[1. 2. 3. 5. 6. 7.]\n"
          ],
          "name": "stdout"
        }
      ]
    },
    {
      "cell_type": "code",
      "metadata": {
        "id": "BXJ-SXHMnZew",
        "colab_type": "code",
        "colab": {}
      },
      "source": [
        ""
      ],
      "execution_count": 0,
      "outputs": []
    }
  ]
}