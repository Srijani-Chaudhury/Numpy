{
  "nbformat": 4,
  "nbformat_minor": 0,
  "metadata": {
    "colab": {
      "name": "Copy of numpy-assignment-4.ipynb",
      "provenance": [],
      "toc_visible": true
    },
    "kernelspec": {
      "name": "python3",
      "display_name": "Python 3"
    }
  },
  "cells": [
    {
      "cell_type": "code",
      "metadata": {
        "id": "LYAs5f4MUyqX",
        "colab_type": "code",
        "colab": {}
      },
      "source": [
        "/import numpy as np"
      ],
      "execution_count": 0,
      "outputs": []
    },
    {
      "cell_type": "code",
      "metadata": {
        "id": "kith96zaU3v4",
        "colab_type": "code",
        "outputId": "12a2b956-a443-4dd1-bd94-07eaf6345d7f",
        "colab": {
          "base_uri": "https://localhost:8080/",
          "height": 153
        }
      },
      "source": [
        "# Q1 Write a numpy code to swap col1([0,5,10,15]) with col4([3,8,13,18])\n",
        "# Hint----> Fancy Indexing\n",
        "import numpy as np\n",
        "arr1=np.arange(20).reshape(4,5)\n",
        "k=arr1[:,[0]]\n",
        "arr1[:,[0]]=arr1[:,[3]]\n",
        "arr1[:,[3]]=k\n",
        "print(arr1)\n"
      ],
      "execution_count": 0,
      "outputs": [
        {
          "output_type": "stream",
          "text": [
            "[[ 0  1  2  3  4]\n",
            " [ 5  6  7  8  9]\n",
            " [10 11 12 13 14]\n",
            " [15 16 17 18 19]]\n",
            "[[ 3  1  2  0  4]\n",
            " [ 8  6  7  5  9]\n",
            " [13 11 12 10 14]\n",
            " [18 16 17 15 19]]\n"
          ],
          "name": "stdout"
        }
      ]
    },
    {
      "cell_type": "code",
      "metadata": {
        "id": "qzrMoxJSWOEm",
        "colab_type": "code",
        "outputId": "71638a54-1008-4b07-cf35-0d1241b41930",
        "colab": {
          "base_uri": "https://localhost:8080/",
          "height": 153
        }
      },
      "source": [
        "# Q2 Write a numpy code to reverse the rows of arr1\n",
        "# The output should be [15, 16, 17, 18, 19] as first row and [ 0,  1,  2,  3,  4] as last row\n",
        "arr1=arr1=np.arange(20).reshape(4,5)\n",
        "for i in range(2):\n",
        " m=arr1[[i]]\n",
        " arr1[[i]]=arr1[[3-i]]\n",
        " arr1[[3-i]]=m\n",
        "print(arr1)\n",
        "\n"
      ],
      "execution_count": 0,
      "outputs": [
        {
          "output_type": "stream",
          "text": [
            "[[ 0  1  2  3  4]\n",
            " [ 5  6  7  8  9]\n",
            " [10 11 12 13 14]\n",
            " [15 16 17 18 19]]\n",
            "[[15 16 17 18 19]\n",
            " [10 11 12 13 14]\n",
            " [ 5  6  7  8  9]\n",
            " [ 0  1  2  3  4]]\n"
          ],
          "name": "stdout"
        }
      ]
    },
    {
      "cell_type": "code",
      "metadata": {
        "id": "qU9DW6vQWivF",
        "colab_type": "code",
        "outputId": "c3c4373d-dfce-4d18-ce31-ff640870a8a6",
        "colab": {
          "base_uri": "https://localhost:8080/",
          "height": 119
        }
      },
      "source": [
        "# Q3 Write a code to replace all the nan(missing values) of arr2 with the mean of arr2\n",
        "arr2=np.array([[1,2,np.nan],[4,5,6],[np.nan,np.nan,9]])\n",
        "print(arr2)\n",
        "k=np.mean(arr2[np.isnan(arr2)!=True])\n",
        "arr2[np.isnan(arr2)]=k\n",
        "print(arr2)\n",
        "\n"
      ],
      "execution_count": 0,
      "outputs": [
        {
          "output_type": "stream",
          "text": [
            "[[ 1.  2. nan]\n",
            " [ 4.  5.  6.]\n",
            " [nan nan  9.]]\n",
            "[[1.  2.  4.5]\n",
            " [4.  5.  6. ]\n",
            " [4.5 4.5 9. ]]\n"
          ],
          "name": "stdout"
        }
      ]
    },
    {
      "cell_type": "code",
      "metadata": {
        "id": "F3tUsOivZ6Wf",
        "colab_type": "code",
        "outputId": "b34ed050-6d6c-4524-a455-a4c3e2e8f2b9",
        "colab": {
          "base_uri": "https://localhost:8080/",
          "height": 119
        }
      },
      "source": [
        "# Q4 Write a code which can fetch all items from arr3 which are either greater than 25 or a multiple of 3\n",
        "import numpy as np\n",
        "arr3=np.random.randint(low=1,high=100,size=20).reshape(5,4)\n",
        "print(arr3)\n",
        "print(arr3[(arr3>25) | (arr3%3==0)])\n"
      ],
      "execution_count": 0,
      "outputs": [
        {
          "output_type": "stream",
          "text": [
            "[[58 14 63 64]\n",
            " [ 8 52  8 78]\n",
            " [19 63 31 23]\n",
            " [76 28 69 16]\n",
            " [19 29 76 91]]\n",
            "[58 63 64 52 78 63 31 76 28 69 29 76 91]\n"
          ],
          "name": "stdout"
        }
      ]
    },
    {
      "cell_type": "code",
      "metadata": {
        "id": "PxcxU2ACa9Ri",
        "colab_type": "code",
        "outputId": "d76cdabb-8b6f-4e18-c42f-ad1c71d9dbd3",
        "colab": {
          "base_uri": "https://localhost:8080/",
          "height": 68
        }
      },
      "source": [
        "# Q5 Write a code to find the 10th, 25th, 50th(median) percentile of arr3\n",
        "arr3=np.random.randint(low=1,high=100,size=20).reshape(5,4)\n",
        "print(\"the 10th percentlie\",np.percentile(arr3,10))\n",
        "print(\"the 25th percentile\",np.percentile(arr3,25))\n",
        "print(\"the 50th percentile\",np.percentile(arr3,50))\n",
        "\n",
        "   \n",
        "\n",
        "\n",
        "# Percentiles are a very important concept in Statistics. If you don't know about it refer the video below\n",
        "#   \n",
        "# Hint: to solve this function google np.percentile()"
      ],
      "execution_count": 0,
      "outputs": [
        {
          "output_type": "stream",
          "text": [
            "the 10th percentlie 14.900000000000002\n",
            "the 25th percentile 35.75\n",
            "the 50th percentile 49.0\n"
          ],
          "name": "stdout"
        }
      ]
    },
    {
      "cell_type": "code",
      "metadata": {
        "id": "_8moTHWYcDCt",
        "colab_type": "code",
        "colab": {}
      },
      "source": [
        ""
      ],
      "execution_count": 0,
      "outputs": []
    }
  ]
}